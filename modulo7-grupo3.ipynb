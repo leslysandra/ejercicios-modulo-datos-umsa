{
 "cells": [
  {
   "cell_type": "markdown",
   "id": "a3ae016e-3453-474d-ae39-3440e227ca56",
   "metadata": {},
   "source": [
    "# GRUPO 3 - Great Expectations\n",
    "\n",
    "Luz Alizon\n",
    "\n",
    "Mauricio\n",
    "\n",
    "Victor Quino\n",
    "\n",
    "Great Expectations (GE) es una herramienta de código abierto diseñada para asegurar la calidad de los datos en proyectos de análisis y ciencia de datos. Permite definir “expectativas” o reglas sobre el dataset (por ejemplo: que una columna no tenga valores nulos, que los precios sean positivos, que las fechas estén en un rango válido) y luego verificar automáticamente si los datos cumplen con esas condiciones.\n",
    "\n",
    "Su utilidad principal está en detectar problemas de calidad antes de avanzar a etapas críticas como el modelado o la toma de decisiones. De esta manera, ayuda a prevenir errores costosos causados por datos incompletos, inconsistentes o fuera de rango."
   ]
  },
  {
   "cell_type": "markdown",
   "id": "bfbcc563-f77f-462c-b447-0afd8d5166eb",
   "metadata": {},
   "source": [
    "## DATASET E-COMMERCE\n",
    "El dataset de E-commerce utilizado en este trabajo corresponde a transacciones reales de una tienda en línea del Reino Unido, registradas entre los años 2010 y 2011. Contiene información detallada sobre las facturas emitidas, los productos vendidos, las cantidades adquiridas, los precios unitarios, así como datos de los clientes y su país de origen."
   ]
  },
  {
   "cell_type": "markdown",
   "id": "7a214439-efc0-476e-9544-ec7c06037cd2",
   "metadata": {},
   "source": [
    "### 0) Cargar dataset (RAW)"
   ]
  },
  {
   "cell_type": "code",
   "execution_count": 1,
   "id": "27438f02-d85a-4c6f-ada1-4013467c1ce3",
   "metadata": {},
   "outputs": [
    {
     "name": "stdout",
     "output_type": "stream",
     "text": [
      "NumPy: 1.26.4\n",
      "SciPy: 1.10.1\n",
      "Pandas: 2.2.2\n",
      "Sklearn: 1.5.1\n",
      "GE: 0.18.13\n"
     ]
    }
   ],
   "source": [
    "# IMPORTACIONES\n",
    "import numpy, scipy, pandas, sklearn, great_expectations as ge\n",
    "print(\"NumPy:\", numpy.__version__)\n",
    "print(\"SciPy:\", scipy.__version__)\n",
    "print(\"Pandas:\", pandas.__version__)\n",
    "print(\"Sklearn:\", sklearn.__version__)\n",
    "print(\"GE:\", ge.__version__)"
   ]
  },
  {
   "cell_type": "code",
   "execution_count": 6,
   "id": "687c9566-6973-424e-a657-1e7b79cff5f9",
   "metadata": {},
   "outputs": [
    {
     "name": "stdout",
     "output_type": "stream",
     "text": [
      "Usando: /Users/daniel/Documents/cursos/maestria-ia/modulo-7/titanic/data/e-commerce.csv\n",
      "RAW shape: (541909, 8)\n"
     ]
    },
    {
     "data": {
      "text/html": [
       "<div>\n",
       "<style scoped>\n",
       "    .dataframe tbody tr th:only-of-type {\n",
       "        vertical-align: middle;\n",
       "    }\n",
       "\n",
       "    .dataframe tbody tr th {\n",
       "        vertical-align: top;\n",
       "    }\n",
       "\n",
       "    .dataframe thead th {\n",
       "        text-align: right;\n",
       "    }\n",
       "</style>\n",
       "<table border=\"1\" class=\"dataframe\">\n",
       "  <thead>\n",
       "    <tr style=\"text-align: right;\">\n",
       "      <th></th>\n",
       "      <th>InvoiceNo</th>\n",
       "      <th>StockCode</th>\n",
       "      <th>Description</th>\n",
       "      <th>Quantity</th>\n",
       "      <th>InvoiceDate</th>\n",
       "      <th>UnitPrice</th>\n",
       "      <th>CustomerID</th>\n",
       "      <th>Country</th>\n",
       "    </tr>\n",
       "  </thead>\n",
       "  <tbody>\n",
       "    <tr>\n",
       "      <th>0</th>\n",
       "      <td>536365</td>\n",
       "      <td>85123A</td>\n",
       "      <td>WHITE HANGING HEART T-LIGHT HOLDER</td>\n",
       "      <td>6</td>\n",
       "      <td>12/1/2010 8:26</td>\n",
       "      <td>2.55</td>\n",
       "      <td>17850.0</td>\n",
       "      <td>United Kingdom</td>\n",
       "    </tr>\n",
       "    <tr>\n",
       "      <th>1</th>\n",
       "      <td>536365</td>\n",
       "      <td>71053</td>\n",
       "      <td>WHITE METAL LANTERN</td>\n",
       "      <td>6</td>\n",
       "      <td>12/1/2010 8:26</td>\n",
       "      <td>3.39</td>\n",
       "      <td>17850.0</td>\n",
       "      <td>United Kingdom</td>\n",
       "    </tr>\n",
       "    <tr>\n",
       "      <th>2</th>\n",
       "      <td>536365</td>\n",
       "      <td>84406B</td>\n",
       "      <td>CREAM CUPID HEARTS COAT HANGER</td>\n",
       "      <td>8</td>\n",
       "      <td>12/1/2010 8:26</td>\n",
       "      <td>2.75</td>\n",
       "      <td>17850.0</td>\n",
       "      <td>United Kingdom</td>\n",
       "    </tr>\n",
       "  </tbody>\n",
       "</table>\n",
       "</div>"
      ],
      "text/plain": [
       "  InvoiceNo StockCode                         Description  Quantity  \\\n",
       "0    536365    85123A  WHITE HANGING HEART T-LIGHT HOLDER         6   \n",
       "1    536365     71053                 WHITE METAL LANTERN         6   \n",
       "2    536365    84406B      CREAM CUPID HEARTS COAT HANGER         8   \n",
       "\n",
       "      InvoiceDate  UnitPrice  CustomerID         Country  \n",
       "0  12/1/2010 8:26       2.55     17850.0  United Kingdom  \n",
       "1  12/1/2010 8:26       3.39     17850.0  United Kingdom  \n",
       "2  12/1/2010 8:26       2.75     17850.0  United Kingdom  "
      ]
     },
     "execution_count": 6,
     "metadata": {},
     "output_type": "execute_result"
    }
   ],
   "source": [
    "from pathlib import Path\n",
    "import pandas as pd\n",
    "import numpy as np\n",
    "\n",
    "DATA_PATH = Path(\"../data/e-commerce.csv\")\n",
    "print(\"Usando:\", DATA_PATH.resolve())\n",
    "\n",
    "df_raw = pd.read_csv(DATA_PATH, encoding_errors=\"ignore\")\n",
    "print(\"RAW shape:\", df_raw.shape)\n",
    "df_raw.head(3)"
   ]
  },
  {
   "cell_type": "markdown",
   "id": "da179b56-70ec-4078-9993-9b99c76be984",
   "metadata": {},
   "source": [
    "#### Descripción de las columnas\n",
    "- **InvoiceNo** Número de factura. Es un identificador único para cada transacción.\n",
    "\n",
    "- **StockCode** Código único asignado a cada producto. Sirve para identificar el artículo en inventario.\n",
    "\n",
    "- **Description**\n",
    "Nombre o descripción textual del producto.\n",
    "\n",
    "- **Quantity**\n",
    "Número de unidades vendidas en cada transacción.\n",
    "\n",
    "- **InvoiceDate**\n",
    "Fecha y hora exacta en que se generó la factura.\n",
    "\n",
    "- **UnitPrice**\n",
    "Precio unitario del producto, expresado en libras esterlinas (£).\n",
    "\n",
    "- **CustomerID**\n",
    "Identificador numérico único de cada cliente.\n",
    "\n",
    "- **Country**\n",
    "País del cliente. Indica desde dónde se realizó la compra."
   ]
  },
  {
   "cell_type": "markdown",
   "id": "b78844e7-f744-4115-843c-f733ca0b88fd",
   "metadata": {},
   "source": [
    "### 1) Preprocesamiento mínimo (tipos)\n",
    "Objetivo: Asegurar que las variables principales tengan el tipo de dato correcto y que no haya problemas básicos al analizarlas."
   ]
  },
  {
   "cell_type": "code",
   "execution_count": 7,
   "id": "b5769267-e17b-4301-8ea2-be5428e59430",
   "metadata": {},
   "outputs": [
    {
     "name": "stdout",
     "output_type": "stream",
     "text": [
      "InvoiceNo              object\n",
      "StockCode              object\n",
      "Description            object\n",
      "Quantity                int64\n",
      "InvoiceDate    datetime64[ns]\n",
      "UnitPrice             float64\n",
      "CustomerID            float64\n",
      "Country                object\n",
      "dtype: object\n"
     ]
    },
    {
     "data": {
      "text/plain": [
       "CustomerID     135080\n",
       "Description      1454\n",
       "InvoiceNo           0\n",
       "StockCode           0\n",
       "Quantity            0\n",
       "InvoiceDate         0\n",
       "UnitPrice           0\n",
       "Country             0\n",
       "dtype: int64"
      ]
     },
     "execution_count": 7,
     "metadata": {},
     "output_type": "execute_result"
    }
   ],
   "source": [
    "df_raw = df_raw.copy()\n",
    "\n",
    "# Fecha → datetime\n",
    "if \"InvoiceDate\" in df_raw.columns:\n",
    "    df_raw[\"InvoiceDate\"] = pd.to_datetime(df_raw[\"InvoiceDate\"], errors=\"coerce\")\n",
    "\n",
    "# Números → asegurar tipo\n",
    "for col in [\"Quantity\", \"UnitPrice\", \"CustomerID\"]:\n",
    "    if col in df_raw.columns:\n",
    "        df_raw[col] = pd.to_numeric(df_raw[col], errors=\"coerce\")\n",
    "\n",
    "print(df_raw.dtypes)\n",
    "df_raw.isna().sum().sort_values(ascending=False).head(10)\n"
   ]
  },
  {
   "cell_type": "markdown",
   "id": "ce463541-8d7d-4296-8da1-2edf745c88cc",
   "metadata": {},
   "source": [
    "### 2) Great Expectations — contexto y datasource (idempotente)\n",
    "Objetivo: Paso para que Great Expectations “reconozca” y se conecte a nuestro dataframe de e-commerce. Sin este contexto y datasource, no podríamos ejecutar reglas de calidad sobre los datos."
   ]
  },
  {
   "cell_type": "code",
   "execution_count": 8,
   "id": "b61eb0f2-738c-44a8-8326-f12a0b9f84ae",
   "metadata": {},
   "outputs": [],
   "source": [
    "import great_expectations as ge\n",
    "from great_expectations.core.batch import RuntimeBatchRequest\n",
    "from great_expectations.exceptions import DataContextError\n",
    "\n",
    "# Contexto efímero en notebook\n",
    "context = ge.get_context()\n",
    "\n",
    "# Datasource runtime para Pandas (seguro si ya existe)\n",
    "try:\n",
    "    context.add_datasource(\n",
    "        name=\"runtime_pandas_datasource\",\n",
    "        class_name=\"Datasource\",\n",
    "        execution_engine={\"class_name\": \"PandasExecutionEngine\"},\n",
    "        data_connectors={\n",
    "            \"runtime_data_connector\": {\n",
    "                \"class_name\": \"RuntimeDataConnector\",\n",
    "                \"batch_identifiers\": [\"default_identifier_name\"],\n",
    "            }\n",
    "        },\n",
    "    )\n",
    "except DataContextError:\n",
    "    pass  # ya existe"
   ]
  },
  {
   "cell_type": "markdown",
   "id": "82cc37b2-83be-46cf-a1a1-3575d46fd70b",
   "metadata": {},
   "source": [
    "### 3) VALIDACIÓN RAW (diagnóstico)\n",
    "Objetivo: Chequeo médico inicial, confirma que el dataset es coherente en lo más básico, y que no hay problemas graves que impidan seguir adelante."
   ]
  },
  {
   "cell_type": "code",
   "execution_count": 10,
   "id": "5c9ad02a-2e99-42b2-a599-22cda6941333",
   "metadata": {},
   "outputs": [
    {
     "data": {
      "application/vnd.jupyter.widget-view+json": {
       "model_id": "b244fa1bc59a47eb928eed6d9f99b6a3",
       "version_major": 2,
       "version_minor": 0
      },
      "text/plain": [
       "Calculating Metrics:   0%|          | 0/2 [00:00<?, ?it/s]"
      ]
     },
     "metadata": {},
     "output_type": "display_data"
    },
    {
     "data": {
      "application/vnd.jupyter.widget-view+json": {
       "model_id": "58db62498c694c43b1d014ca0a524f85",
       "version_major": 2,
       "version_minor": 0
      },
      "text/plain": [
       "Calculating Metrics:   0%|          | 0/6 [00:00<?, ?it/s]"
      ]
     },
     "metadata": {},
     "output_type": "display_data"
    },
    {
     "data": {
      "application/vnd.jupyter.widget-view+json": {
       "model_id": "8d9597ff638048f899e4d6eefc5ff924",
       "version_major": 2,
       "version_minor": 0
      },
      "text/plain": [
       "Calculating Metrics:   0%|          | 0/6 [00:00<?, ?it/s]"
      ]
     },
     "metadata": {},
     "output_type": "display_data"
    },
    {
     "data": {
      "application/vnd.jupyter.widget-view+json": {
       "model_id": "43ef88465f23439585de8e7d65d2c27c",
       "version_major": 2,
       "version_minor": 0
      },
      "text/plain": [
       "Calculating Metrics:   0%|          | 0/6 [00:00<?, ?it/s]"
      ]
     },
     "metadata": {},
     "output_type": "display_data"
    },
    {
     "data": {
      "application/vnd.jupyter.widget-view+json": {
       "model_id": "5865bd1c60d44e0c8cc38c61a934435a",
       "version_major": 2,
       "version_minor": 0
      },
      "text/plain": [
       "Calculating Metrics:   0%|          | 0/6 [00:00<?, ?it/s]"
      ]
     },
     "metadata": {},
     "output_type": "display_data"
    },
    {
     "data": {
      "application/vnd.jupyter.widget-view+json": {
       "model_id": "eb96da2f5eed446aad25dfb3b8c65991",
       "version_major": 2,
       "version_minor": 0
      },
      "text/plain": [
       "Calculating Metrics:   0%|          | 0/6 [00:00<?, ?it/s]"
      ]
     },
     "metadata": {},
     "output_type": "display_data"
    },
    {
     "data": {
      "application/vnd.jupyter.widget-view+json": {
       "model_id": "36904a496c6547008a453ef1be398223",
       "version_major": 2,
       "version_minor": 0
      },
      "text/plain": [
       "Calculating Metrics:   0%|          | 0/8 [00:00<?, ?it/s]"
      ]
     },
     "metadata": {},
     "output_type": "display_data"
    },
    {
     "data": {
      "application/vnd.jupyter.widget-view+json": {
       "model_id": "917a0d89e56843aea241c2850407d35f",
       "version_major": 2,
       "version_minor": 0
      },
      "text/plain": [
       "Calculating Metrics:   0%|          | 0/8 [00:00<?, ?it/s]"
      ]
     },
     "metadata": {},
     "output_type": "display_data"
    },
    {
     "data": {
      "application/vnd.jupyter.widget-view+json": {
       "model_id": "6180dccda3dc411d83c4143d44bbd893",
       "version_major": 2,
       "version_minor": 0
      },
      "text/plain": [
       "Calculating Metrics:   0%|          | 0/8 [00:00<?, ?it/s]"
      ]
     },
     "metadata": {},
     "output_type": "display_data"
    },
    {
     "data": {
      "application/vnd.jupyter.widget-view+json": {
       "model_id": "a950fc6ea79c421caee1503cbdc22aa5",
       "version_major": 2,
       "version_minor": 0
      },
      "text/plain": [
       "Calculating Metrics:   0%|          | 0/8 [00:00<?, ?it/s]"
      ]
     },
     "metadata": {},
     "output_type": "display_data"
    },
    {
     "data": {
      "application/vnd.jupyter.widget-view+json": {
       "model_id": "a1d0439035074347bbc867d62d0f5ca7",
       "version_major": 2,
       "version_minor": 0
      },
      "text/plain": [
       "Calculating Metrics:   0%|          | 0/30 [00:00<?, ?it/s]"
      ]
     },
     "metadata": {},
     "output_type": "display_data"
    },
    {
     "data": {
      "text/plain": [
       "{'evaluated_expectations': 10,\n",
       " 'successful_expectations': 10,\n",
       " 'unsuccessful_expectations': 0,\n",
       " 'success_percent': 100.0}"
      ]
     },
     "execution_count": 10,
     "metadata": {},
     "output_type": "execute_result"
    }
   ],
   "source": [
    "from great_expectations.core.expectation_suite import ExpectationSuite\n",
    "\n",
    "# Batch request usando df_raw en memoria\n",
    "batch_request_raw = RuntimeBatchRequest(\n",
    "    datasource_name=\"runtime_pandas_datasource\",\n",
    "    data_connector_name=\"runtime_data_connector\",\n",
    "    data_asset_name=\"ecommerce_raw\",\n",
    "    runtime_parameters={\"batch_data\": df_raw},\n",
    "    batch_identifiers={\"default_identifier_name\": \"raw_run\"},\n",
    ")\n",
    "\n",
    "# Crear/registrar suite RAW (0.18.x usa add_or_update)\n",
    "suite_name_raw = \"ecommerce_raw_suite\"\n",
    "try:\n",
    "    suite_raw = context.get_expectation_suite(suite_name_raw)\n",
    "except DataContextError:\n",
    "    suite_raw = ExpectationSuite(expectation_suite_name=suite_name_raw)\n",
    "    context.add_or_update_expectation_suite(expectation_suite=suite_raw)\n",
    "\n",
    "# Obtener validator RAW\n",
    "validator_raw = context.get_validator(\n",
    "    batch_request=batch_request_raw,\n",
    "    expectation_suite_name=suite_name_raw\n",
    ")\n",
    "\n",
    "# ---- EXPECTATIONS (menos estrictas, diagnóstico) ----\n",
    "present = [c for c in [\"InvoiceNo\",\"StockCode\",\"Description\",\"Quantity\",\n",
    "                       \"InvoiceDate\",\"UnitPrice\",\"CustomerID\",\"Country\"]\n",
    "           if c in df_raw.columns]\n",
    "validator_raw.expect_table_columns_to_match_set(present)\n",
    "\n",
    "for c in [\"InvoiceNo\",\"StockCode\",\"InvoiceDate\",\"UnitPrice\",\"Country\"]:\n",
    "    if c in df_raw.columns:\n",
    "        validator_raw.expect_column_values_to_not_be_null(c, mostly=0.95)\n",
    "\n",
    "if \"UnitPrice\" in df_raw.columns:\n",
    "    validator_raw.expect_column_values_to_be_between(\"UnitPrice\", min_value=0, max_value=None, mostly=0.99)\n",
    "    #validator_raw.expect_column_values_to_be_greater_than_or_equal_to(\"UnitPrice\", 0)\n",
    "\n",
    "if \"InvoiceDate\" in df_raw.columns:\n",
    "    validator_raw.expect_column_values_to_be_between(\n",
    "        \"InvoiceDate\",\n",
    "        min_value=pd.Timestamp(\"2010-12-01\"),\n",
    "        max_value=pd.Timestamp(\"2011-12-09\"),\n",
    "        parse_strings_as_datetimes=True,\n",
    "        mostly=0.97\n",
    "    )\n",
    "\n",
    "if \"InvoiceNo\" in df_raw.columns:\n",
    "    validator_raw.expect_column_values_to_match_regex(\"InvoiceNo\", r\"^[C]?\\d+$\", mostly=0.97)\n",
    "\n",
    "if \"Country\" in df_raw.columns:\n",
    "    top_countries = df_raw[\"Country\"].dropna().value_counts().head(30).index.tolist()\n",
    "    validator_raw.expect_column_values_to_be_in_set(\"Country\", top_countries, mostly=0.98)\n",
    "\n",
    "# Guardar suite y validar\n",
    "validator_raw.save_expectation_suite(discard_failed_expectations=False)\n",
    "res_raw = validator_raw.validate()\n",
    "res_raw[\"statistics\"]"
   ]
  },
  {
   "cell_type": "markdown",
   "id": "f6e6c790-913c-4ef5-b95e-b31b87d872a0",
   "metadata": {},
   "source": [
    "#### Qué muestran los resultados\n",
    "- evaluated_expectations: 10 → Se evaluaron 10 reglas de calidad de datos (expectations).\n",
    "- successful_expectations: 10 → Las 10 se cumplieron.\n",
    "- unsuccessful_expectations: 0 → Ninguna falló.\n",
    "- success_percent: 100.0 → Tasa de éxito del 100%.\n",
    "Las barras verdes (Calculating Metrics: 100%) reflejan que todas las comprobaciones terminaron correctamente y dentro de lo esperado."
   ]
  },
  {
   "cell_type": "markdown",
   "id": "17625adc-56e6-48b7-8529-943d91e05ee3",
   "metadata": {},
   "source": [
    "#### Interpretación\n",
    "- **Consistencia básica garantizada**\n",
    "El dataset cumple con las reglas mínimas que definimos: columnas presentes, valores no nulos en las principales, precios unitarios no negativos, fechas dentro del rango esperado, etc.\n",
    "\n",
    "- **No se detectaron anomalías graves en RAW**\n",
    "Esto significa que tus datos crudos ya están bastante “limpios” en términos estructurales.\n",
    "Ojo: esto no garantiza que el dataset esté perfecto (puede haber outliers, duplicados, registros inconsistentes en negocio), pero sí que pasó las validaciones básicas que configuramos.\n",
    "\n",
    "- **Base sólida para limpieza y modelado**\n",
    "Tener 100% aquí es una buena señal: no es necesario hacer correcciones drásticas antes de pasar a la fase CLEAN o al modelado posterior."
   ]
  },
  {
   "cell_type": "markdown",
   "id": "992585de-ed9b-431b-b773-f9392de5eac5",
   "metadata": {},
   "source": [
    "### 4) Limpieza mínima\n",
    "Este paso representó un filtro inicial para quedarnos con datos más confiables:\n",
    "- Quitamos errores evidentes (cantidades o precios negativos).\n",
    "- Generamos una métrica clave (Revenue).\n",
    "- Comprobamos que el dataset mejoró, aunque una de las expectativas falló (lo que revela la presencia de casos atípicos que aún requieren análisis).\n",
    "\n",
    "En resumen: el dataset pasara de ser “utilizable” a ser “más limpio y coherente”, aunque todavía no está perfecto."
   ]
  },
  {
   "cell_type": "code",
   "execution_count": 11,
   "id": "20d6a244-57de-4ae9-af07-b0591d5e0bf7",
   "metadata": {},
   "outputs": [
    {
     "name": "stdout",
     "output_type": "stream",
     "text": [
      "CLEAN shape: (536639, 9)\n"
     ]
    },
    {
     "data": {
      "text/html": [
       "<div>\n",
       "<style scoped>\n",
       "    .dataframe tbody tr th:only-of-type {\n",
       "        vertical-align: middle;\n",
       "    }\n",
       "\n",
       "    .dataframe tbody tr th {\n",
       "        vertical-align: top;\n",
       "    }\n",
       "\n",
       "    .dataframe thead th {\n",
       "        text-align: right;\n",
       "    }\n",
       "</style>\n",
       "<table border=\"1\" class=\"dataframe\">\n",
       "  <thead>\n",
       "    <tr style=\"text-align: right;\">\n",
       "      <th></th>\n",
       "      <th>InvoiceNo</th>\n",
       "      <th>StockCode</th>\n",
       "      <th>Description</th>\n",
       "      <th>Quantity</th>\n",
       "      <th>InvoiceDate</th>\n",
       "      <th>UnitPrice</th>\n",
       "      <th>CustomerID</th>\n",
       "      <th>Country</th>\n",
       "      <th>Revenue</th>\n",
       "    </tr>\n",
       "  </thead>\n",
       "  <tbody>\n",
       "    <tr>\n",
       "      <th>0</th>\n",
       "      <td>536365</td>\n",
       "      <td>85123A</td>\n",
       "      <td>WHITE HANGING HEART T-LIGHT HOLDER</td>\n",
       "      <td>6</td>\n",
       "      <td>2010-12-01 08:26:00</td>\n",
       "      <td>2.55</td>\n",
       "      <td>17850.0</td>\n",
       "      <td>United Kingdom</td>\n",
       "      <td>15.30</td>\n",
       "    </tr>\n",
       "    <tr>\n",
       "      <th>1</th>\n",
       "      <td>536365</td>\n",
       "      <td>71053</td>\n",
       "      <td>WHITE METAL LANTERN</td>\n",
       "      <td>6</td>\n",
       "      <td>2010-12-01 08:26:00</td>\n",
       "      <td>3.39</td>\n",
       "      <td>17850.0</td>\n",
       "      <td>United Kingdom</td>\n",
       "      <td>20.34</td>\n",
       "    </tr>\n",
       "    <tr>\n",
       "      <th>2</th>\n",
       "      <td>536365</td>\n",
       "      <td>84406B</td>\n",
       "      <td>CREAM CUPID HEARTS COAT HANGER</td>\n",
       "      <td>8</td>\n",
       "      <td>2010-12-01 08:26:00</td>\n",
       "      <td>2.75</td>\n",
       "      <td>17850.0</td>\n",
       "      <td>United Kingdom</td>\n",
       "      <td>22.00</td>\n",
       "    </tr>\n",
       "  </tbody>\n",
       "</table>\n",
       "</div>"
      ],
      "text/plain": [
       "  InvoiceNo StockCode                         Description  Quantity  \\\n",
       "0    536365    85123A  WHITE HANGING HEART T-LIGHT HOLDER         6   \n",
       "1    536365     71053                 WHITE METAL LANTERN         6   \n",
       "2    536365    84406B      CREAM CUPID HEARTS COAT HANGER         8   \n",
       "\n",
       "          InvoiceDate  UnitPrice  CustomerID         Country  Revenue  \n",
       "0 2010-12-01 08:26:00       2.55     17850.0  United Kingdom    15.30  \n",
       "1 2010-12-01 08:26:00       3.39     17850.0  United Kingdom    20.34  \n",
       "2 2010-12-01 08:26:00       2.75     17850.0  United Kingdom    22.00  "
      ]
     },
     "execution_count": 11,
     "metadata": {},
     "output_type": "execute_result"
    }
   ],
   "source": [
    "df_clean = df_raw.copy()\n",
    "\n",
    "# UnitPrice no negativo (devoluciones se reflejan en Quantity)\n",
    "if \"UnitPrice\" in df_clean.columns:\n",
    "    df_clean = df_clean[df_clean[\"UnitPrice\"].fillna(0) >= 0]\n",
    "\n",
    "# Quantity entero (si vino como float por nulos)\n",
    "if \"Quantity\" in df_clean.columns and not np.issubdtype(df_clean[\"Quantity\"].dtype, np.integer):\n",
    "    df_clean[\"Quantity\"] = pd.to_numeric(df_clean[\"Quantity\"], errors=\"coerce\").fillna(0).astype(int)\n",
    "\n",
    "# Derivar Revenue\n",
    "if set([\"Quantity\",\"UnitPrice\"]).issubset(df_clean.columns):\n",
    "    df_clean[\"Revenue\"] = df_clean[\"Quantity\"] * df_clean[\"UnitPrice\"]\n",
    "\n",
    "# Quitar duplicados exactos\n",
    "df_clean = df_clean.drop_duplicates()\n",
    "\n",
    "print(\"CLEAN shape:\", df_clean.shape)\n",
    "df_clean.head(3)"
   ]
  },
  {
   "cell_type": "markdown",
   "id": "caa8109e-fc64-4b5e-9a4a-03a4d598c179",
   "metadata": {},
   "source": [
    "### 5) VALIDACIÓN CLEAN (más estricta)"
   ]
  },
  {
   "cell_type": "code",
   "execution_count": 13,
   "id": "ba933016-cb0f-483a-871a-a5fa3ec40bd0",
   "metadata": {},
   "outputs": [
    {
     "data": {
      "application/vnd.jupyter.widget-view+json": {
       "model_id": "105c2fb6c80b4faeb1527e7a387b6767",
       "version_major": 2,
       "version_minor": 0
      },
      "text/plain": [
       "Calculating Metrics:   0%|          | 0/2 [00:00<?, ?it/s]"
      ]
     },
     "metadata": {},
     "output_type": "display_data"
    },
    {
     "data": {
      "application/vnd.jupyter.widget-view+json": {
       "model_id": "10f871792bcb4c21a11557f527a6d189",
       "version_major": 2,
       "version_minor": 0
      },
      "text/plain": [
       "Calculating Metrics:   0%|          | 0/6 [00:00<?, ?it/s]"
      ]
     },
     "metadata": {},
     "output_type": "display_data"
    },
    {
     "data": {
      "application/vnd.jupyter.widget-view+json": {
       "model_id": "2669dae756df4478ae8d5b718bca7645",
       "version_major": 2,
       "version_minor": 0
      },
      "text/plain": [
       "Calculating Metrics:   0%|          | 0/6 [00:00<?, ?it/s]"
      ]
     },
     "metadata": {},
     "output_type": "display_data"
    },
    {
     "data": {
      "application/vnd.jupyter.widget-view+json": {
       "model_id": "7c495528d9c640e6a2d9c7ed6f59bb14",
       "version_major": 2,
       "version_minor": 0
      },
      "text/plain": [
       "Calculating Metrics:   0%|          | 0/6 [00:00<?, ?it/s]"
      ]
     },
     "metadata": {},
     "output_type": "display_data"
    },
    {
     "data": {
      "application/vnd.jupyter.widget-view+json": {
       "model_id": "d4ac62789cba44e9a9687818b1375e75",
       "version_major": 2,
       "version_minor": 0
      },
      "text/plain": [
       "Calculating Metrics:   0%|          | 0/6 [00:00<?, ?it/s]"
      ]
     },
     "metadata": {},
     "output_type": "display_data"
    },
    {
     "data": {
      "application/vnd.jupyter.widget-view+json": {
       "model_id": "f331bb74a29c49b18efa0a15789eec0f",
       "version_major": 2,
       "version_minor": 0
      },
      "text/plain": [
       "Calculating Metrics:   0%|          | 0/6 [00:00<?, ?it/s]"
      ]
     },
     "metadata": {},
     "output_type": "display_data"
    },
    {
     "data": {
      "application/vnd.jupyter.widget-view+json": {
       "model_id": "c31adc12e1854ef0b2eae63a3e7a8a61",
       "version_major": 2,
       "version_minor": 0
      },
      "text/plain": [
       "Calculating Metrics:   0%|          | 0/8 [00:00<?, ?it/s]"
      ]
     },
     "metadata": {},
     "output_type": "display_data"
    },
    {
     "data": {
      "application/vnd.jupyter.widget-view+json": {
       "model_id": "fde7420e9a57412ca2e6282fb4dbdf61",
       "version_major": 2,
       "version_minor": 0
      },
      "text/plain": [
       "Calculating Metrics:   0%|          | 0/8 [00:00<?, ?it/s]"
      ]
     },
     "metadata": {},
     "output_type": "display_data"
    },
    {
     "data": {
      "application/vnd.jupyter.widget-view+json": {
       "model_id": "7a4fd18d25f64530a238edc061233970",
       "version_major": 2,
       "version_minor": 0
      },
      "text/plain": [
       "Calculating Metrics:   0%|          | 0/8 [00:00<?, ?it/s]"
      ]
     },
     "metadata": {},
     "output_type": "display_data"
    },
    {
     "data": {
      "application/vnd.jupyter.widget-view+json": {
       "model_id": "0a4833765f88485e8337b286ed8362aa",
       "version_major": 2,
       "version_minor": 0
      },
      "text/plain": [
       "Calculating Metrics:   0%|          | 0/29 [00:00<?, ?it/s]"
      ]
     },
     "metadata": {},
     "output_type": "display_data"
    },
    {
     "data": {
      "text/plain": [
       "{'evaluated_expectations': 9,\n",
       " 'successful_expectations': 8,\n",
       " 'unsuccessful_expectations': 1,\n",
       " 'success_percent': 88.88888888888889}"
      ]
     },
     "execution_count": 13,
     "metadata": {},
     "output_type": "execute_result"
    }
   ],
   "source": [
    "# Batch request usando df_clean en memoria\n",
    "batch_request_clean = RuntimeBatchRequest(\n",
    "    datasource_name=\"runtime_pandas_datasource\",\n",
    "    data_connector_name=\"runtime_data_connector\",\n",
    "    data_asset_name=\"ecommerce_clean\",\n",
    "    runtime_parameters={\"batch_data\": df_clean},\n",
    "    batch_identifiers={\"default_identifier_name\": \"clean_run\"},\n",
    ")\n",
    "\n",
    "# Crear/registrar suite CLEAN\n",
    "suite_name_clean = \"ecommerce_clean_suite\"\n",
    "try:\n",
    "    suite_clean = context.get_expectation_suite(suite_name_clean)\n",
    "except DataContextError:\n",
    "    suite_clean = ExpectationSuite(expectation_suite_name=suite_name_clean)\n",
    "    context.add_or_update_expectation_suite(expectation_suite=suite_clean)\n",
    "\n",
    "# Validator CLEAN\n",
    "validator_clean = context.get_validator(\n",
    "    batch_request=batch_request_clean,\n",
    "    expectation_suite_name=suite_name_clean\n",
    ")\n",
    "\n",
    "# ---- EXPECTATIONS (más estrictas) ----\n",
    "expected_clean = [c for c in [\"InvoiceNo\",\"StockCode\",\"Description\",\"Quantity\",\n",
    "                              \"InvoiceDate\",\"UnitPrice\",\"CustomerID\",\"Country\",\"Revenue\"]\n",
    "                  if c in df_clean.columns]\n",
    "validator_clean.expect_table_columns_to_match_set(expected_clean)\n",
    "\n",
    "for c in [\"InvoiceNo\",\"StockCode\",\"InvoiceDate\",\"UnitPrice\",\"Country\"]:\n",
    "    if c in df_clean.columns:\n",
    "        validator_clean.expect_column_values_to_not_be_null(c)\n",
    "\n",
    "if \"UnitPrice\" in df_clean.columns:\n",
    "    validator_clean.expect_column_values_to_be_between(\"UnitPrice\", min_value=0, max_value=None)\n",
    "    #validator_clean.expect_column_values_to_be_greater_than_or_equal_to(\"UnitPrice\", 0)\n",
    "\n",
    "if \"Revenue\" in df_clean.columns and df_clean[\"Revenue\"].notna().sum() > 0:\n",
    "    q01, q99 = df_clean[\"Revenue\"].quantile([0.01, 0.99])\n",
    "    validator_clean.expect_column_values_to_be_between(\"Revenue\", min_value=q01, max_value=q99, mostly=0.98)\n",
    "\n",
    "if \"InvoiceNo\" in df_clean.columns:\n",
    "    validator_clean.expect_column_values_to_match_regex(\"InvoiceNo\", r\"^[C]?\\\\d+$\")\n",
    "\n",
    "validator_clean.save_expectation_suite(discard_failed_expectations=False)\n",
    "res_clean = validator_clean.validate()\n",
    "res_clean[\"statistics\"]"
   ]
  },
  {
   "cell_type": "markdown",
   "id": "10205722-b3b0-4318-9f6e-cafdfbc84df7",
   "metadata": {},
   "source": [
    "#### Qué muestran los resultados\n",
    "- evaluated_expectations: 9 → Se aplicaron 9 reglas de calidad sobre los datos ya limpiados.\n",
    "- successful_expectations: 8 → Ocho se cumplieron.\n",
    "- unsuccessful_expectations: 1 → Una falló.\n",
    "- success_percent: 88.9% → La tasa de éxito global fue del 89%."
   ]
  },
  {
   "cell_type": "markdown",
   "id": "263683dc-e07b-4f90-9f20-9e001ef57be0",
   "metadata": {},
   "source": [
    "### Interpretación\n",
    "\n",
    "- **Los datos mejoraron respecto al RAW**\n",
    "Ahora estás aplicando reglas más estrictas, como la validez del campo Revenue o límites basados en cuantiles. Que la mayoría se cumpla (89%) indica que tu limpieza va por buen camino.\n",
    "\n",
    "- **Un fallo significa una alerta, no necesariamente un error grave**\n",
    "La expectativa que falló probablemente esté ligada a algún dato que se sale de los rangos esperados (ej. valores de Revenue fuera de los cuantiles definidos, o algún InvoiceNo con formato inusual). Esto no invalida el dataset, pero sí señala que hay outliers o casos atípicos que vale la pena revisar.\n",
    "\n",
    "- **El dataset CLEAN es más confiable que el RAW**\n",
    "El porcentaje de éxito sigue siendo alto (casi 9/10 reglas pasaron). Esto muestra que la mayoría de los datos cumplen con criterios de negocio básicos, y que las inconsistencias son puntuales."
   ]
  }
 ],
 "metadata": {
  "kernelspec": {
   "display_name": "Python 3 (ipykernel)",
   "language": "python",
   "name": "python3"
  },
  "language_info": {
   "codemirror_mode": {
    "name": "ipython",
    "version": 3
   },
   "file_extension": ".py",
   "mimetype": "text/x-python",
   "name": "python",
   "nbconvert_exporter": "python",
   "pygments_lexer": "ipython3",
   "version": "3.9.6"
  }
 },
 "nbformat": 4,
 "nbformat_minor": 5
}
